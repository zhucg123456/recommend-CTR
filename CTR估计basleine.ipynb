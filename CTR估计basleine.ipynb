{
 "cells": [
  {
   "cell_type": "code",
   "execution_count": 2,
   "id": "0e682f9e",
   "metadata": {},
   "outputs": [],
   "source": [
    "import pandas as pd\n",
    "import numpy as np\n",
    "import os\n",
    "import gc\n",
    "import matplotlib.pyplot as plt\n",
    "from tqdm import *\n",
    "#----------------核心模型----------------\n",
    "from catboost import CatBoostClassifier\n",
    "from sklearn.linear_model import SGDRegressor, LinearRegression, Ridge\n",
    "#----------------交叉验证----------------\n",
    "from sklearn.model_selection import StratifiedKFold, KFold\n",
    "#----------------评估指标----------------\n",
    "from sklearn.metrics import accuracy_score, f1_score, roc_auc_score, log_loss\n",
    "#----------------忽略报警----------------\n",
    "import warnings\n",
    "warnings.filterwarnings('ignore')"
   ]
  },
  {
   "cell_type": "code",
   "execution_count": 4,
   "id": "b08e2e83",
   "metadata": {},
   "outputs": [
    {
     "data": {
      "text/plain": [
       "0"
      ]
     },
     "execution_count": 4,
     "metadata": {},
     "output_type": "execute_result"
    }
   ],
   "source": [
    "# 读取训练数据和测试数据\n",
    "train_data_ads = pd.read_csv('.\\\\Downloads\\\\2022_3_data\\\\train\\\\train_data_ads.csv')\n",
    "train_data_feeds = pd.read_csv('.\\\\Downloads\\\\2022_3_data\\\\train\\\\train_data_feeds.csv')\n",
    "\n",
    "test_data_ads = pd.read_csv('.\\\\Downloads\\\\2022_3_data\\\\test\\\\test_data_ads.csv')\n",
    "test_data_feeds = pd.read_csv('.\\\\Downloads\\\\2022_3_data\\\\test\\\\test_data_feeds.csv')\n",
    "\n",
    "# 合并数据\n",
    "# 合并数据\n",
    "train_data_ads['istest'] = 0\n",
    "test_data_ads['istest'] = 1\n",
    "data_ads = pd.concat([train_data_ads, test_data_ads], axis=0, ignore_index=True)\n",
    "\n",
    "train_data_feeds['istest'] = 0\n",
    "test_data_feeds['istest'] = 1\n",
    "data_feeds = pd.concat([train_data_feeds, test_data_feeds], axis=0, ignore_index=True)\n",
    "\n",
    "del train_data_ads, test_data_ads, train_data_feeds, test_data_feeds\n",
    "gc.collect()"
   ]
  },
  {
   "cell_type": "code",
   "execution_count": 5,
   "id": "01ffb730",
   "metadata": {},
   "outputs": [],
   "source": [
    "# 自然数编码\n",
    "def label_encode(series, series2):\n",
    "    unique = list(series.unique())\n",
    "    return series2.map(dict(zip(\n",
    "        unique, range(series.nunique())\n",
    "    )))\n",
    "\n",
    "for col in ['ad_click_list_v001','ad_click_list_v002','ad_click_list_v003','ad_close_list_v001','ad_close_list_v002','ad_close_list_v003','u_newsCatInterestsST']:\n",
    "    data_ads[col] = label_encode(data_ads[col], data_ads[col])"
   ]
  },
  {
   "cell_type": "code",
   "execution_count": 6,
   "id": "38b18db4",
   "metadata": {},
   "outputs": [
    {
     "name": "stderr",
     "output_type": "stream",
     "text": [
      "100%|██████████████████████████████████████████████████████████████████████████████████| 26/26 [01:58<00:00,  4.54s/it]\n",
      "100%|██████████████████████████████████████████████████████████████████████████████████| 20/20 [01:43<00:00,  5.19s/it]\n"
     ]
    }
   ],
   "source": [
    "# data_feeds特征构建\n",
    "cols = [f for f in data_feeds.columns if f not in ['label','istest','u_userId']]\n",
    "for col in Z(cols):\n",
    "    tmp = data_feeds.groupby(['u_userId'])[col].nunique().reset_index()\n",
    "    tmp.columns = ['user_id', col+'_feeds_nuni']\n",
    "    data_ads = data_ads.merge(tmp, on='user_id', how='left')\n",
    "\n",
    "cols = [f for f in data_feeds.columns if f not in ['istest','u_userId','u_newsCatInterests','u_newsCatDislike','u_newsCatInterestsST','u_click_ca2_news','i_docId','i_s_sourceId','i_entities']]\n",
    "for col in tqdm(cols):\n",
    "    tmp = data_feeds.groupby(['u_userId'])[col].mean().reset_index()\n",
    "    tmp.columns = ['user_id', col+'_feeds_mean']\n",
    "    data_ads = data_ads.merge(tmp, on='user_id', how='left')"
   ]
  },
  {
   "cell_type": "code",
   "execution_count": 7,
   "id": "024a5d12",
   "metadata": {},
   "outputs": [
    {
     "name": "stdout",
     "output_type": "stream",
     "text": [
      "Mem. usage decreased to 1303.62 Mb (76.2% reduction)\n"
     ]
    }
   ],
   "source": [
    "def reduce_mem_usage(df, verbose=True):\n",
    "    numerics = ['int16', 'int32', 'int64', 'float16', 'float32', 'float64']\n",
    "    start_mem = df.memory_usage().sum() / 1024**2    \n",
    "    for col in df.columns:\n",
    "        col_type = df[col].dtypes\n",
    "        if col_type in numerics:\n",
    "            c_min = df[col].min()\n",
    "            c_max = df[col].max()\n",
    "            if str(col_type)[:3] == 'int':\n",
    "                if c_min > np.iinfo(np.int8).min and c_max < np.iinfo(np.int8).max:\n",
    "                    df[col] = df[col].astype(np.int8)\n",
    "                elif c_min > np.iinfo(np.int16).min and c_max < np.iinfo(np.int16).max:\n",
    "                    df[col] = df[col].astype(np.int16)\n",
    "                elif c_min > np.iinfo(np.int32).min and c_max < np.iinfo(np.int32).max:\n",
    "                    df[col] = df[col].astype(np.int32)\n",
    "                elif c_min > np.iinfo(np.int64).min and c_max < np.iinfo(np.int64).max:\n",
    "                    df[col] = df[col].astype(np.int64)  \n",
    "            else:\n",
    "                if c_min > np.finfo(np.float16).min and c_max < np.finfo(np.float16).max:\n",
    "                    df[col] = df[col].astype(np.float16)\n",
    "                elif c_min > np.finfo(np.float32).min and c_max < np.finfo(np.float32).max:\n",
    "                    df[col] = df[col].astype(np.float32)\n",
    "                else:\n",
    "                    df[col] = df[col].astype(np.float64)    \n",
    "    end_mem = df.memory_usage().sum() / 1024**2\n",
    "    if verbose: print('Mem. usage decreased to {:5.2f} Mb ({:.1f}% reduction)'.format(end_mem, 100 * (start_mem - end_mem) / start_mem))\n",
    "    return df\n",
    "    \n",
    "# 压缩使用内存\n",
    "data_ads = reduce_mem_usage(data_ads)\n",
    "# Mem. usage decreased to 2351.47 Mb (69.3% reduction)"
   ]
  },
  {
   "cell_type": "code",
   "execution_count": 8,
   "id": "8f43d478",
   "metadata": {},
   "outputs": [
    {
     "data": {
      "text/plain": [
       "0"
      ]
     },
     "execution_count": 8,
     "metadata": {},
     "output_type": "execute_result"
    }
   ],
   "source": [
    "# 划分训练集和测试集\n",
    "cols = [f for f in data_ads.columns if f not in ['label','istest']]\n",
    "x_train = data_ads[data_ads.istest==0][cols]\n",
    "x_test = data_ads[data_ads.istest==1][cols]\n",
    "\n",
    "y_train = data_ads[data_ads.istest==0]['label']\n",
    "\n",
    "del data_ads, data_feeds\n",
    "gc.collect()"
   ]
  },
  {
   "cell_type": "code",
   "execution_count": 9,
   "id": "fe757d9e",
   "metadata": {},
   "outputs": [
    {
     "name": "stdout",
     "output_type": "stream",
     "text": [
      "************************************ 1 2022************************************\n"
     ]
    },
    {
     "name": "stderr",
     "output_type": "stream",
     "text": [
      "Warning: Overfitting detector is active, thus evaluation metric is calculated on every iteration. 'metric_period' is ignored for evaluation metric.\n"
     ]
    },
    {
     "name": "stdout",
     "output_type": "stream",
     "text": [
      "0:\ttest: 0.6921154\tbest: 0.6921154 (0)\ttotal: 701ms\tremaining: 3h 53m 44s\n",
      "200:\ttest: 0.8046135\tbest: 0.8046135 (200)\ttotal: 1m 54s\tremaining: 3h 8m 4s\n",
      "400:\ttest: 0.8081975\tbest: 0.8081975 (400)\ttotal: 3m 49s\tremaining: 3h 6m 55s\n",
      "600:\ttest: 0.8096837\tbest: 0.8096837 (600)\ttotal: 5m 40s\tremaining: 3h 3m 7s\n",
      "800:\ttest: 0.8102733\tbest: 0.8102755 (799)\ttotal: 7m 28s\tremaining: 2h 59m 5s\n",
      "1000:\ttest: 0.8108860\tbest: 0.8109073 (990)\ttotal: 9m 16s\tremaining: 2h 56m 9s\n",
      "1200:\ttest: 0.8113489\tbest: 0.8113677 (1175)\ttotal: 11m 4s\tremaining: 2h 53m 28s\n",
      "Stopped by overfitting detector  (50 iterations wait)\n",
      "\n",
      "bestTest = 0.8113677039\n",
      "bestIteration = 1175\n",
      "\n",
      "Shrink model to first 1176 iterations.\n",
      "[0.8113677039422733]\n",
      "************************************ 2 2022************************************\n"
     ]
    },
    {
     "name": "stderr",
     "output_type": "stream",
     "text": [
      "Warning: Overfitting detector is active, thus evaluation metric is calculated on every iteration. 'metric_period' is ignored for evaluation metric.\n"
     ]
    },
    {
     "name": "stdout",
     "output_type": "stream",
     "text": [
      "0:\ttest: 0.6890423\tbest: 0.6890423 (0)\ttotal: 555ms\tremaining: 3h 5m\n",
      "200:\ttest: 0.8066723\tbest: 0.8066723 (200)\ttotal: 1m 49s\tremaining: 2h 59m 50s\n",
      "400:\ttest: 0.8095862\tbest: 0.8095862 (400)\ttotal: 3m 38s\tremaining: 2h 57m 54s\n",
      "600:\ttest: 0.8109250\tbest: 0.8109483 (586)\ttotal: 5m 26s\tremaining: 2h 55m 37s\n",
      "800:\ttest: 0.8119713\tbest: 0.8119713 (800)\ttotal: 7m 14s\tremaining: 2h 53m 34s\n",
      "1000:\ttest: 0.8125059\tbest: 0.8125135 (969)\ttotal: 9m 2s\tremaining: 2h 51m 38s\n",
      "1200:\ttest: 0.8131917\tbest: 0.8132006 (1199)\ttotal: 10m 50s\tremaining: 2h 49m 42s\n",
      "1400:\ttest: 0.8135026\tbest: 0.8135403 (1373)\ttotal: 12m 38s\tremaining: 2h 47m 53s\n",
      "Stopped by overfitting detector  (50 iterations wait)\n",
      "\n",
      "bestTest = 0.813540322\n",
      "bestIteration = 1373\n",
      "\n",
      "Shrink model to first 1374 iterations.\n",
      "[0.8113677039422733, 0.8135403220261701]\n",
      "************************************ 3 2022************************************\n"
     ]
    },
    {
     "name": "stderr",
     "output_type": "stream",
     "text": [
      "Warning: Overfitting detector is active, thus evaluation metric is calculated on every iteration. 'metric_period' is ignored for evaluation metric.\n"
     ]
    },
    {
     "name": "stdout",
     "output_type": "stream",
     "text": [
      "0:\ttest: 0.6638754\tbest: 0.6638754 (0)\ttotal: 524ms\tremaining: 2h 54m 33s\n",
      "200:\ttest: 0.8058515\tbest: 0.8058515 (200)\ttotal: 1m 49s\tremaining: 2h 58m 58s\n",
      "400:\ttest: 0.8091572\tbest: 0.8091572 (400)\ttotal: 3m 37s\tremaining: 2h 56m 58s\n",
      "600:\ttest: 0.8103285\tbest: 0.8103566 (595)\ttotal: 5m 24s\tremaining: 2h 54m 18s\n",
      "800:\ttest: 0.8117448\tbest: 0.8117461 (799)\ttotal: 7m 11s\tremaining: 2h 52m 21s\n",
      "Stopped by overfitting detector  (50 iterations wait)\n",
      "\n",
      "bestTest = 0.8121950788\n",
      "bestIteration = 898\n",
      "\n",
      "Shrink model to first 899 iterations.\n",
      "[0.8113677039422733, 0.8135403220261701, 0.8121950787651718]\n",
      "************************************ 4 2022************************************\n"
     ]
    },
    {
     "name": "stderr",
     "output_type": "stream",
     "text": [
      "Warning: Overfitting detector is active, thus evaluation metric is calculated on every iteration. 'metric_period' is ignored for evaluation metric.\n"
     ]
    },
    {
     "name": "stdout",
     "output_type": "stream",
     "text": [
      "0:\ttest: 0.6589996\tbest: 0.6589996 (0)\ttotal: 527ms\tremaining: 2h 55m 33s\n",
      "200:\ttest: 0.8054655\tbest: 0.8054720 (199)\ttotal: 1m 49s\tremaining: 2h 59m 34s\n",
      "400:\ttest: 0.8087192\tbest: 0.8087192 (400)\ttotal: 3m 37s\tremaining: 2h 56m 57s\n",
      "600:\ttest: 0.8102491\tbest: 0.8102558 (598)\ttotal: 5m 31s\tremaining: 2h 58m 6s\n",
      "800:\ttest: 0.8111745\tbest: 0.8111842 (788)\ttotal: 7m 23s\tremaining: 2h 57m 7s\n",
      "1000:\ttest: 0.8119016\tbest: 0.8119033 (999)\ttotal: 9m 17s\tremaining: 2h 56m 24s\n",
      "1200:\ttest: 0.8125379\tbest: 0.8125515 (1194)\ttotal: 11m 12s\tremaining: 2h 55m 28s\n",
      "1400:\ttest: 0.8128287\tbest: 0.8128341 (1375)\ttotal: 13m 7s\tremaining: 2h 54m 13s\n",
      "Stopped by overfitting detector  (50 iterations wait)\n",
      "\n",
      "bestTest = 0.8128988471\n",
      "bestIteration = 1409\n",
      "\n",
      "Shrink model to first 1410 iterations.\n",
      "[0.8113677039422733, 0.8135403220261701, 0.8121950787651718, 0.8128988471259874]\n",
      "************************************ 5 2022************************************\n"
     ]
    },
    {
     "name": "stderr",
     "output_type": "stream",
     "text": [
      "Warning: Overfitting detector is active, thus evaluation metric is calculated on every iteration. 'metric_period' is ignored for evaluation metric.\n"
     ]
    },
    {
     "name": "stdout",
     "output_type": "stream",
     "text": [
      "0:\ttest: 0.6626293\tbest: 0.6626293 (0)\ttotal: 510ms\tremaining: 2h 50m 8s\n",
      "200:\ttest: 0.8055802\tbest: 0.8055802 (200)\ttotal: 1m 56s\tremaining: 3h 11m 40s\n",
      "400:\ttest: 0.8091364\tbest: 0.8091506 (398)\ttotal: 3m 47s\tremaining: 3h 5m 40s\n",
      "600:\ttest: 0.8104784\tbest: 0.8104817 (598)\ttotal: 5m 36s\tremaining: 3h 1m 14s\n",
      "800:\ttest: 0.8114410\tbest: 0.8114410 (800)\ttotal: 7m 24s\tremaining: 2h 57m 42s\n",
      "1000:\ttest: 0.8120612\tbest: 0.8120624 (998)\ttotal: 9m 12s\tremaining: 2h 54m 41s\n",
      "1200:\ttest: 0.8124766\tbest: 0.8124959 (1169)\ttotal: 11m\tremaining: 2h 52m 15s\n",
      "Stopped by overfitting detector  (50 iterations wait)\n",
      "\n",
      "bestTest = 0.8124958933\n",
      "bestIteration = 1169\n",
      "\n",
      "Shrink model to first 1170 iterations.\n",
      "[0.8113677039422733, 0.8135403220261701, 0.8121950787651718, 0.8128988471259874, 0.8124958932768551]\n",
      "cat_score_list: [0.8113677039422733, 0.8135403220261701, 0.8121950787651718, 0.8128988471259874, 0.8124958932768551]\n",
      "cat_score_mean: 0.8124995690272915\n",
      "cat_score_std: 0.000723385955949271\n"
     ]
    }
   ],
   "source": [
    "def cv_model(clf, train_x, train_y, test_x, clf_name, seed=2022):\n",
    "    \n",
    "    kf = KFold(n_splits=5, shuffle=True, random_state=seed)\n",
    "\n",
    "    train = np.zeros(train_x.shape[0])\n",
    "    test = np.zeros(test_x.shape[0])\n",
    "\n",
    "    cv_scores = []\n",
    "\n",
    "    for i, (train_index, valid_index) in enumerate(kf.split(train_x, train_y)):\n",
    "        print('************************************ {} {}************************************'.format(str(i+1), str(seed)))\n",
    "        trn_x, trn_y, val_x, val_y = train_x.iloc[train_index], train_y[train_index], train_x.iloc[valid_index], train_y[valid_index]\n",
    "               \n",
    "        params = {'learning_rate': 0.3, 'depth': 5, 'l2_leaf_reg': 10, 'bootstrap_type':'Bernoulli','random_seed':seed,\n",
    "                  'od_type': 'Iter', 'od_wait': 50, 'random_seed': 11, 'allow_writing_files': False}\n",
    "\n",
    "        model = clf(iterations=20000, **params, eval_metric='AUC')\n",
    "        model.fit(trn_x, trn_y, eval_set=(val_x, val_y),\n",
    "                  metric_period=200,\n",
    "                  cat_features=[], \n",
    "                  use_best_model=True, \n",
    "                  verbose=1)\n",
    "\n",
    "        val_pred  = model.predict_proba(val_x)[:,1]\n",
    "        test_pred = model.predict_proba(test_x)[:,1]\n",
    "            \n",
    "        train[valid_index] = val_pred\n",
    "        test += test_pred / kf.n_splits\n",
    "        cv_scores.append(roc_auc_score(val_y, val_pred))\n",
    "        \n",
    "        print(cv_scores)\n",
    "       \n",
    "    print(\"%s_score_list:\" % clf_name, cv_scores)\n",
    "    print(\"%s_score_mean:\" % clf_name, np.mean(cv_scores))\n",
    "    print(\"%s_score_std:\" % clf_name, np.std(cv_scores))\n",
    "    return train, test\n",
    "\n",
    "cat_train, cat_test = cv_model(CatBoostClassifier, x_train, y_train, x_test, \"cat\")"
   ]
  },
  {
   "cell_type": "code",
   "execution_count": 10,
   "id": "f1bde9e1",
   "metadata": {},
   "outputs": [],
   "source": [
    "x_test['pctr'] = cat_test\n",
    "x_test[['log_id','pctr']].to_csv('submission.csv', index=False)"
   ]
  },
  {
   "cell_type": "code",
   "execution_count": null,
   "id": "839cda7b",
   "metadata": {},
   "outputs": [],
   "source": []
  }
 ],
 "metadata": {
  "kernelspec": {
   "display_name": "Python 3 (ipykernel)",
   "language": "python",
   "name": "python3"
  },
  "language_info": {
   "codemirror_mode": {
    "name": "ipython",
    "version": 3
   },
   "file_extension": ".py",
   "mimetype": "text/x-python",
   "name": "python",
   "nbconvert_exporter": "python",
   "pygments_lexer": "ipython3",
   "version": "3.9.7"
  }
 },
 "nbformat": 4,
 "nbformat_minor": 5
}
