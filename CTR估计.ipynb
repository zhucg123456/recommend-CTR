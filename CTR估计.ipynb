{
 "cells": [
  {
   "cell_type": "code",
   "execution_count": 21,
   "id": "db4cad8d",
   "metadata": {},
   "outputs": [],
   "source": [
    "import pandas as pd\n",
    "\n",
    "#----------------数据探索----------------\n",
    "# 只使用目标域用户行为数据\n",
    "train_ads = pd.read_csv('.\\\\Downloads\\\\2022_3_data\\\\train\\\\train_data_ads.csv',\n",
    "    usecols=['log_id', 'label', 'user_id', 'age', 'gender', 'residence', 'device_name',\n",
    "            'device_size', 'net_type', 'task_id', 'adv_id', 'creat_type_cd'])\n",
    "\n",
    "test_ads = pd.read_csv('.\\\\Downloads\\\\2022_3_data\\\\test\\\\test_data_ads.csv',\n",
    "    usecols=['log_id', 'user_id', 'age', 'gender', 'residence', 'device_name',\n",
    "    'device_size', 'net_type', 'task_id', 'adv_id', 'creat_type_cd'])\n",
    "\n",
    "#----------------数据集采样----------------\n",
    "train_ads = pd.concat([\n",
    "    train_ads[train_ads['label'] == 0].sample(70000),\n",
    "    train_ads[train_ads['label'] == 1].sample(10000),\n",
    "])\n",
    "\n",
    "#----------------模型训练----------------\n",
    "# 加载训练逻辑回归模型\n",
    "from sklearn.linear_model import LogisticRegression\n",
    "clf = LogisticRegression()\n",
    "clf.fit(\n",
    "    train_ads.drop(['log_id', 'label', 'user_id'], axis=1),\n",
    "    train_ads['label']\n",
    ")\n",
    "\n",
    "#----------------结果输出----------------\n",
    "# 模型预测与生成结果文件\n",
    "test_ads['pctr'] = clf.predict_proba(\n",
    "    test_ads.drop(['log_id', 'user_id'], axis=1),\n",
    "    )[:, 1]\n",
    "test_ads[['log_id', 'pctr']].to_csv('submission.csv',index=None) "
   ]
  },
  {
   "cell_type": "code",
   "execution_count": 17,
   "id": "17fda0b2",
   "metadata": {},
   "outputs": [
    {
     "name": "stdout",
     "output_type": "stream",
     "text": [
      " 驱动器 C 中的卷没有标签。\n",
      " 卷的序列号是 F402-A9CC\n",
      "\n",
      " C:\\Users\\zcg\\Downloads\\2022_3_data 的目录\n",
      "\n",
      "2022/08/15  00:51    <DIR>          .\n",
      "2022/08/15  00:51    <DIR>          ..\n",
      "2022/06/21  17:12    <DIR>          test\n",
      "2022/06/21  17:12    <DIR>          train\n",
      "               0 个文件              0 字节\n",
      "               4 个目录 10,637,000,704 可用字节\n"
     ]
    }
   ],
   "source": [
    "!dir .\\Downloads\\2022_3_data\\"
   ]
  }
 ],
 "metadata": {
  "kernelspec": {
   "display_name": "Python 3 (ipykernel)",
   "language": "python",
   "name": "python3"
  },
  "language_info": {
   "codemirror_mode": {
    "name": "ipython",
    "version": 3
   },
   "file_extension": ".py",
   "mimetype": "text/x-python",
   "name": "python",
   "nbconvert_exporter": "python",
   "pygments_lexer": "ipython3",
   "version": "3.9.7"
  }
 },
 "nbformat": 4,
 "nbformat_minor": 5
}
